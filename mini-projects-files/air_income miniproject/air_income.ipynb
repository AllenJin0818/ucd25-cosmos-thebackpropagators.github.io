{
 "cells": [
  {
   "cell_type": "code",
   "execution_count": 11,
   "metadata": {},
   "outputs": [],
   "source": [
    "import pandas as pd\n",
    "import numpy as np\n",
    "\n",
    "air_df = pd.read_csv('air.csv')\n",
    "income_df = pd.read_csv('income.csv')"
   ]
  },
  {
   "cell_type": "code",
   "execution_count": 12,
   "metadata": {},
   "outputs": [
    {
     "data": {
      "text/html": [
       "<div>\n",
       "<style scoped>\n",
       "    .dataframe tbody tr th:only-of-type {\n",
       "        vertical-align: middle;\n",
       "    }\n",
       "\n",
       "    .dataframe tbody tr th {\n",
       "        vertical-align: top;\n",
       "    }\n",
       "\n",
       "    .dataframe thead th {\n",
       "        text-align: right;\n",
       "    }\n",
       "</style>\n",
       "<table border=\"1\" class=\"dataframe\">\n",
       "  <thead>\n",
       "    <tr style=\"text-align: right;\">\n",
       "      <th></th>\n",
       "      <th>County</th>\n",
       "      <th>FIPS</th>\n",
       "      <th>Micrograms per cubic meter (PM2.5)(1)</th>\n",
       "    </tr>\n",
       "  </thead>\n",
       "  <tbody>\n",
       "    <tr>\n",
       "      <th>0</th>\n",
       "      <td>Mono County</td>\n",
       "      <td>6051</td>\n",
       "      <td>39.1</td>\n",
       "    </tr>\n",
       "    <tr>\n",
       "      <th>1</th>\n",
       "      <td>Mariposa County</td>\n",
       "      <td>6043</td>\n",
       "      <td>21.3</td>\n",
       "    </tr>\n",
       "    <tr>\n",
       "      <th>2</th>\n",
       "      <td>Kern County</td>\n",
       "      <td>6029</td>\n",
       "      <td>21.1</td>\n",
       "    </tr>\n",
       "    <tr>\n",
       "      <th>3</th>\n",
       "      <td>Plumas County</td>\n",
       "      <td>6063</td>\n",
       "      <td>21.1</td>\n",
       "    </tr>\n",
       "    <tr>\n",
       "      <th>4</th>\n",
       "      <td>Tulare County</td>\n",
       "      <td>6107</td>\n",
       "      <td>20.8</td>\n",
       "    </tr>\n",
       "  </tbody>\n",
       "</table>\n",
       "</div>"
      ],
      "text/plain": [
       "            County  FIPS  Micrograms per cubic meter (PM2.5)(1)\n",
       "0      Mono County  6051                                   39.1\n",
       "1  Mariposa County  6043                                   21.3\n",
       "2      Kern County  6029                                   21.1\n",
       "3    Plumas County  6063                                   21.1\n",
       "4    Tulare County  6107                                   20.8"
      ]
     },
     "execution_count": 12,
     "metadata": {},
     "output_type": "execute_result"
    }
   ],
   "source": [
    "air_df.head()"
   ]
  },
  {
   "cell_type": "code",
   "execution_count": 13,
   "metadata": {},
   "outputs": [
    {
     "data": {
      "text/html": [
       "<div>\n",
       "<style scoped>\n",
       "    .dataframe tbody tr th:only-of-type {\n",
       "        vertical-align: middle;\n",
       "    }\n",
       "\n",
       "    .dataframe tbody tr th {\n",
       "        vertical-align: top;\n",
       "    }\n",
       "\n",
       "    .dataframe thead th {\n",
       "        text-align: right;\n",
       "    }\n",
       "</style>\n",
       "<table border=\"1\" class=\"dataframe\">\n",
       "  <thead>\n",
       "    <tr style=\"text-align: right;\">\n",
       "      <th></th>\n",
       "      <th>County</th>\n",
       "      <th>FIPS</th>\n",
       "      <th>Value (Dollars)</th>\n",
       "      <th>Rank within US (of 3141 counties)</th>\n",
       "    </tr>\n",
       "  </thead>\n",
       "  <tbody>\n",
       "    <tr>\n",
       "      <th>0</th>\n",
       "      <td>Trinity County</td>\n",
       "      <td>6105</td>\n",
       "      <td>53,498</td>\n",
       "      <td>2,457</td>\n",
       "    </tr>\n",
       "    <tr>\n",
       "      <th>1</th>\n",
       "      <td>Siskiyou County</td>\n",
       "      <td>6093</td>\n",
       "      <td>55,499</td>\n",
       "      <td>2,309</td>\n",
       "    </tr>\n",
       "    <tr>\n",
       "      <th>2</th>\n",
       "      <td>Imperial County</td>\n",
       "      <td>6025</td>\n",
       "      <td>56,393</td>\n",
       "      <td>2,246</td>\n",
       "    </tr>\n",
       "    <tr>\n",
       "      <th>3</th>\n",
       "      <td>Modoc County</td>\n",
       "      <td>6049</td>\n",
       "      <td>56,648</td>\n",
       "      <td>2,221</td>\n",
       "    </tr>\n",
       "    <tr>\n",
       "      <th>4</th>\n",
       "      <td>Lake County</td>\n",
       "      <td>6033</td>\n",
       "      <td>58,738</td>\n",
       "      <td>2,055</td>\n",
       "    </tr>\n",
       "  </tbody>\n",
       "</table>\n",
       "</div>"
      ],
      "text/plain": [
       "            County  FIPS Value (Dollars) Rank within US (of 3141 counties)\n",
       "0   Trinity County  6105          53,498                             2,457\n",
       "1  Siskiyou County  6093          55,499                             2,309\n",
       "2  Imperial County  6025          56,393                             2,246\n",
       "3     Modoc County  6049          56,648                             2,221\n",
       "4      Lake County  6033          58,738                             2,055"
      ]
     },
     "execution_count": 13,
     "metadata": {},
     "output_type": "execute_result"
    }
   ],
   "source": [
    "income_df.head()"
   ]
  },
  {
   "cell_type": "code",
   "execution_count": 14,
   "metadata": {},
   "outputs": [
    {
     "data": {
      "text/html": [
       "<div>\n",
       "<style scoped>\n",
       "    .dataframe tbody tr th:only-of-type {\n",
       "        vertical-align: middle;\n",
       "    }\n",
       "\n",
       "    .dataframe tbody tr th {\n",
       "        vertical-align: top;\n",
       "    }\n",
       "\n",
       "    .dataframe thead th {\n",
       "        text-align: right;\n",
       "    }\n",
       "</style>\n",
       "<table border=\"1\" class=\"dataframe\">\n",
       "  <thead>\n",
       "    <tr style=\"text-align: right;\">\n",
       "      <th></th>\n",
       "      <th>County</th>\n",
       "      <th>FIPS_x</th>\n",
       "      <th>Micrograms per cubic meter (PM2.5)(1)</th>\n",
       "      <th>FIPS_y</th>\n",
       "      <th>Value (Dollars)</th>\n",
       "      <th>Rank within US (of 3141 counties)</th>\n",
       "    </tr>\n",
       "  </thead>\n",
       "  <tbody>\n",
       "    <tr>\n",
       "      <th>0</th>\n",
       "      <td>Mono County</td>\n",
       "      <td>6051</td>\n",
       "      <td>39.1</td>\n",
       "      <td>6051</td>\n",
       "      <td>86953</td>\n",
       "      <td>313</td>\n",
       "    </tr>\n",
       "    <tr>\n",
       "      <th>1</th>\n",
       "      <td>Mariposa County</td>\n",
       "      <td>6043</td>\n",
       "      <td>21.3</td>\n",
       "      <td>6043</td>\n",
       "      <td>65378</td>\n",
       "      <td>1,392</td>\n",
       "    </tr>\n",
       "    <tr>\n",
       "      <th>2</th>\n",
       "      <td>Kern County</td>\n",
       "      <td>6029</td>\n",
       "      <td>21.1</td>\n",
       "      <td>6029</td>\n",
       "      <td>67660</td>\n",
       "      <td>1,234</td>\n",
       "    </tr>\n",
       "    <tr>\n",
       "      <th>3</th>\n",
       "      <td>Plumas County</td>\n",
       "      <td>6063</td>\n",
       "      <td>21.1</td>\n",
       "      <td>6063</td>\n",
       "      <td>64946</td>\n",
       "      <td>1,436</td>\n",
       "    </tr>\n",
       "    <tr>\n",
       "      <th>4</th>\n",
       "      <td>Tulare County</td>\n",
       "      <td>6107</td>\n",
       "      <td>20.8</td>\n",
       "      <td>6107</td>\n",
       "      <td>69489</td>\n",
       "      <td>1,095</td>\n",
       "    </tr>\n",
       "  </tbody>\n",
       "</table>\n",
       "</div>"
      ],
      "text/plain": [
       "            County  FIPS_x  Micrograms per cubic meter (PM2.5)(1)  FIPS_y  \\\n",
       "0      Mono County    6051                                   39.1    6051   \n",
       "1  Mariposa County    6043                                   21.3    6043   \n",
       "2      Kern County    6029                                   21.1    6029   \n",
       "3    Plumas County    6063                                   21.1    6063   \n",
       "4    Tulare County    6107                                   20.8    6107   \n",
       "\n",
       "   Value (Dollars) Rank within US (of 3141 counties)  \n",
       "0            86953                               313  \n",
       "1            65378                             1,392  \n",
       "2            67660                             1,234  \n",
       "3            64946                             1,436  \n",
       "4            69489                             1,095  "
      ]
     },
     "execution_count": 14,
     "metadata": {},
     "output_type": "execute_result"
    }
   ],
   "source": [
    "merged_df = pd.merge(air_df, income_df, on='County', how='inner')\n",
    "merged_df['Value (Dollars)'] = merged_df['Value (Dollars)'].str.replace(',', '')\n",
    "merged_df['Value (Dollars)'] = pd.to_numeric(merged_df['Value (Dollars)'])\n",
    "\n",
    "merged_df.head()"
   ]
  },
  {
   "cell_type": "code",
   "execution_count": null,
   "metadata": {},
   "outputs": [
    {
     "data": {
      "image/png": "[encoded data removed]",
      "text/plain": [
       "<Figure size 640x480 with 1 Axes>"
      ]
     },
     "metadata": {},
     "output_type": "display_data"
    }
   ],
   "source": [
    "import matplotlib.pyplot as plt\n",
    "\n",
    "plt.plot(merged_df['Value (Dollars)'], merged_df['Micrograms per cubic meter (PM2.5)(1)'], 'o')\n",
    "plt.title('Income vs Pollution By California Counties')\n",
    "plt.xlabel('Median Household Income')\n",
    "plt.ylabel('Pollution Level (PM2.5)')\n",
    "\n",
    "# Save the plot to the Hugo content directory\n",
    "plt.savefig('../../content/miniprojects/miniproject1/income_vs_pollution_scatter.png', dpi=300, bbox_inches='tight')\n",
    "\n",
    "plt.show()"
   ]
  },
  {
   "cell_type": "code",
   "execution_count": 16,
   "metadata": {},
   "outputs": [
    {
     "name": "stdout",
     "output_type": "stream",
     "text": [
      "Coefficient: -4.722561935717909e-05\n",
      "Intercept: 17.984544692537984\n",
      "R^2: 0.0576489015252889\n"
     ]
    }
   ],
   "source": [
    "from sklearn.linear_model import LinearRegression\n",
    "from sklearn.model_selection import train_test_split\n",
    "from sklearn.metrics import mean_squared_error, r2_score\n",
    "\n",
    "X = merged_df[['Value (Dollars)']]  \n",
    "\n",
    "y = merged_df[\"Micrograms per cubic meter (PM2.5)(1)\"]\n",
    "\n",
    "\n",
    "model = LinearRegression()\n",
    "model.fit(X, y)\n",
    "\n",
    "y_pred = model.predict(X)\n",
    "\n",
    "print(f\"Coefficient: {model.coef_[0]}\")\n",
    "print(f\"Intercept: {model.intercept_}\")\n",
    "print(f\"R^2: {model.score(X,y)}\")"
   ]
  },
  {
   "cell_type": "code",
   "execution_count": 17,
   "metadata": {},
   "outputs": [
    {
     "data": {
      "image/png": "[encoded data removed]",
      "text/plain": [
       "<Figure size 640x480 with 1 Axes>"
      ]
     },
     "metadata": {},
     "output_type": "display_data"
    }
   ],
   "source": [
    "plt.scatter(X, y, color='blue', label='Actual data')\n",
    "plt.plot(X, y_pred, color='red', linewidth=2, label='Regression line')\n",
    "plt.xlabel('Median Household Income')\n",
    "plt.ylabel('Pollution Level')\n",
    "plt.title('Linear Regression For Test Data')\n",
    "plt.legend()\n",
    "plt.show()"
   ]
  },
  {
   "cell_type": "code",
   "execution_count": null,
   "metadata": {},
   "outputs": [
    {
     "data": {
      "text/plain": [
       "<Figure size 640x480 with 0 Axes>"
      ]
     },
     "metadata": {},
     "output_type": "display_data"
    }
   ],
   "source": [
    "plt.savefig('../../content/miniprojects/miniproject1/income_vs_pollution_scatter.png', dpi=300, bbox_inches='tight')"
   ]
  }
 ],
 "metadata": {
  "kernelspec": {
   "display_name": "cosmos",
   "language": "python",
   "name": "python3"
  },
  "language_info": {
   "codemirror_mode": {
    "name": "ipython",
    "version": 3
   },
   "file_extension": ".py",
   "mimetype": "text/x-python",
   "name": "python",
   "nbconvert_exporter": "python",
   "pygments_lexer": "ipython3",
   "version": "3.12.11"
  }
 },
 "nbformat": 4,
 "nbformat_minor": 2
}
